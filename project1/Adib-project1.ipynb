{
 "cells": [
  {
   "cell_type": "markdown",
   "metadata": {},
   "source": [
    "# Analysis on delirium patients from MIMIC III database\n",
    "\n",
    "1. This notebook contains all the images generated from the dataset, that are included in the article submitted.\n",
    "2. The notebook is divided into: data preprocessing, figures, Linear regression and Logistic regression.\n",
    "3. The csv file is not added since the sql file to generate delirium patients data from MIMIC III database is still under development. However, we can view how the dataset looks like by looking at it's dimensions, column names, and sample data from the table.\n",
    "4. Race distribution is not added, since that requires a more in-depth analysis in other direction."
   ]
  },
  {
   "cell_type": "markdown",
   "metadata": {},
   "source": [
    "# Data preprocessing"
   ]
  },
  {
   "cell_type": "code",
   "execution_count": 1,
   "metadata": {},
   "outputs": [],
   "source": [
    "import warnings\n",
    "warnings.filterwarnings('ignore')"
   ]
  },
  {
   "cell_type": "code",
   "execution_count": 2,
   "metadata": {},
   "outputs": [],
   "source": [
    "import psycopg2\n",
    "import pandas as pd\n",
    "import matplotlib.pyplot as plt\n",
    "import numpy as np\n",
    "\n",
    "import seaborn as sns\n",
    "sns.set(style=\"white\")\n",
    "sns.set(style=\"whitegrid\", color_codes=True)"
   ]
  },
  {
   "cell_type": "code",
   "execution_count": 3,
   "metadata": {},
   "outputs": [],
   "source": [
    "def read_from_db(sql):\n",
    "    conn = psycopg2.connect(database = \"mimic\", user = \"postgres\", password = \"riddhi\", host = \"127.0.0.1\", port = \"5432\")\n",
    "    data = pd.read_sql(sql, con=conn)\n",
    "    conn.close()\n",
    "    return data"
   ]
  },
  {
   "cell_type": "code",
   "execution_count": 4,
   "metadata": {},
   "outputs": [],
   "source": [
    "def label_drug_group(row):\n",
    "    if \"Haloperidol\" in row['drugs']:\n",
    "        return 1\n",
    "    if \"No drug\" in row['drugs']:\n",
    "        return 2\n",
    "    if \"Haloperidol\" not in row['drugs'] and \"No drug\" not in row['drugs']:\n",
    "        return 3\n",
    "    return 0"
   ]
  },
  {
   "cell_type": "code",
   "execution_count": 5,
   "metadata": {},
   "outputs": [],
   "source": [
    "sql = \"SELECT * FROM public.delirium_table_3\"\n",
    "data = read_from_db(sql)\n",
    "data['drug_group'] = data.apply(lambda row: label_drug_group(row), axis=1)"
   ]
  },
  {
   "cell_type": "code",
   "execution_count": 6,
   "metadata": {},
   "outputs": [
    {
     "data": {
      "text/plain": [
       "(1671, 23)"
      ]
     },
     "execution_count": 6,
     "metadata": {},
     "output_type": "execute_result"
    }
   ],
   "source": [
    "data.shape"
   ]
  },
  {
   "cell_type": "code",
   "execution_count": 7,
   "metadata": {},
   "outputs": [
    {
     "data": {
      "text/plain": [
       "Index(['subject_id', 'gender', 'age', 'ethnicity', 'hadm_id', 'icustay_id',\n",
       "       'los_days', 'icd9_codes', 'drugs', 'dist_cat_count', 'drug_catagories',\n",
       "       'cat_surgery', 'cat_pneu', 'sepsis', 'dementia', 'alzheimers',\n",
       "       'depression', 'anxiety', 'death_hosp', 'death_one_year', 'mechvent',\n",
       "       'mechvent_duration_hours', 'drug_group'],\n",
       "      dtype='object')"
      ]
     },
     "execution_count": 7,
     "metadata": {},
     "output_type": "execute_result"
    }
   ],
   "source": [
    "data.columns"
   ]
  },
  {
   "cell_type": "code",
   "execution_count": 8,
   "metadata": {},
   "outputs": [
    {
     "data": {
      "text/html": [
       "<div>\n",
       "<style scoped>\n",
       "    .dataframe tbody tr th:only-of-type {\n",
       "        vertical-align: middle;\n",
       "    }\n",
       "\n",
       "    .dataframe tbody tr th {\n",
       "        vertical-align: top;\n",
       "    }\n",
       "\n",
       "    .dataframe thead th {\n",
       "        text-align: right;\n",
       "    }\n",
       "</style>\n",
       "<table border=\"1\" class=\"dataframe\">\n",
       "  <thead>\n",
       "    <tr style=\"text-align: right;\">\n",
       "      <th></th>\n",
       "      <th>subject_id</th>\n",
       "      <th>gender</th>\n",
       "      <th>age</th>\n",
       "      <th>ethnicity</th>\n",
       "      <th>hadm_id</th>\n",
       "      <th>icustay_id</th>\n",
       "      <th>los_days</th>\n",
       "      <th>icd9_codes</th>\n",
       "      <th>drugs</th>\n",
       "      <th>dist_cat_count</th>\n",
       "      <th>...</th>\n",
       "      <th>sepsis</th>\n",
       "      <th>dementia</th>\n",
       "      <th>alzheimers</th>\n",
       "      <th>depression</th>\n",
       "      <th>anxiety</th>\n",
       "      <th>death_hosp</th>\n",
       "      <th>death_one_year</th>\n",
       "      <th>mechvent</th>\n",
       "      <th>mechvent_duration_hours</th>\n",
       "      <th>drug_group</th>\n",
       "    </tr>\n",
       "  </thead>\n",
       "  <tbody>\n",
       "    <tr>\n",
       "      <th>562</th>\n",
       "      <td>27425</td>\n",
       "      <td>M</td>\n",
       "      <td>62.06</td>\n",
       "      <td>WHITE</td>\n",
       "      <td>137253</td>\n",
       "      <td>251790.0</td>\n",
       "      <td>14.0223</td>\n",
       "      <td>4271: Parox ventric tachycard\\n03849: Gram-neg...</td>\n",
       "      <td>Quetiapine Fumarate\\nOlanzapine (Disintegratin...</td>\n",
       "      <td>4</td>\n",
       "      <td>...</td>\n",
       "      <td>1</td>\n",
       "      <td>0</td>\n",
       "      <td>0</td>\n",
       "      <td>0</td>\n",
       "      <td>0</td>\n",
       "      <td>0</td>\n",
       "      <td>0</td>\n",
       "      <td>2</td>\n",
       "      <td>11.75, 141.25</td>\n",
       "      <td>1</td>\n",
       "    </tr>\n",
       "    <tr>\n",
       "      <th>564</th>\n",
       "      <td>27530</td>\n",
       "      <td>M</td>\n",
       "      <td>64.41</td>\n",
       "      <td>WHITE</td>\n",
       "      <td>129816</td>\n",
       "      <td>201501.0</td>\n",
       "      <td>6.1660</td>\n",
       "      <td>V5049: Prphylct orgn rmvl other\\nV420: Kidney ...</td>\n",
       "      <td>Quetiapine Fumarate</td>\n",
       "      <td>1</td>\n",
       "      <td>...</td>\n",
       "      <td>0</td>\n",
       "      <td>0</td>\n",
       "      <td>0</td>\n",
       "      <td>0</td>\n",
       "      <td>0</td>\n",
       "      <td>0</td>\n",
       "      <td>0</td>\n",
       "      <td>0</td>\n",
       "      <td></td>\n",
       "      <td>3</td>\n",
       "    </tr>\n",
       "    <tr>\n",
       "      <th>1424</th>\n",
       "      <td>83149</td>\n",
       "      <td>F</td>\n",
       "      <td>84.15</td>\n",
       "      <td>WHITE</td>\n",
       "      <td>176022</td>\n",
       "      <td>248326.0</td>\n",
       "      <td>0.5804</td>\n",
       "      <td>82021: Intertrochanteric fx-cl\\n2851: Ac posth...</td>\n",
       "      <td>Quetiapine Fumarate\\nHaloperidol\\nHaloperidol\\...</td>\n",
       "      <td>3</td>\n",
       "      <td>...</td>\n",
       "      <td>0</td>\n",
       "      <td>0</td>\n",
       "      <td>0</td>\n",
       "      <td>0</td>\n",
       "      <td>0</td>\n",
       "      <td>0</td>\n",
       "      <td>0</td>\n",
       "      <td>0</td>\n",
       "      <td></td>\n",
       "      <td>1</td>\n",
       "    </tr>\n",
       "    <tr>\n",
       "      <th>1461</th>\n",
       "      <td>85407</td>\n",
       "      <td>F</td>\n",
       "      <td>72.83</td>\n",
       "      <td>UNKNOWN/NOT SPECIFIED</td>\n",
       "      <td>129707</td>\n",
       "      <td>214843.0</td>\n",
       "      <td>1.1170</td>\n",
       "      <td>0389: Septicemia NOS\\n41519: Pulm embol/infarc...</td>\n",
       "      <td>No drug</td>\n",
       "      <td>0</td>\n",
       "      <td>...</td>\n",
       "      <td>0</td>\n",
       "      <td>0</td>\n",
       "      <td>0</td>\n",
       "      <td>0</td>\n",
       "      <td>0</td>\n",
       "      <td>1</td>\n",
       "      <td>1</td>\n",
       "      <td>0</td>\n",
       "      <td></td>\n",
       "      <td>2</td>\n",
       "    </tr>\n",
       "    <tr>\n",
       "      <th>977</th>\n",
       "      <td>54523</td>\n",
       "      <td>M</td>\n",
       "      <td>84.08</td>\n",
       "      <td>WHITE</td>\n",
       "      <td>106421</td>\n",
       "      <td>275893.0</td>\n",
       "      <td>31.2165</td>\n",
       "      <td>99731: Ventltr assoc pneumonia\\n5845: Ac kidny...</td>\n",
       "      <td>Quetiapine Fumarate\\nHaloperidol\\nHaloperidol\\...</td>\n",
       "      <td>3</td>\n",
       "      <td>...</td>\n",
       "      <td>0</td>\n",
       "      <td>0</td>\n",
       "      <td>0</td>\n",
       "      <td>0</td>\n",
       "      <td>0</td>\n",
       "      <td>0</td>\n",
       "      <td>0</td>\n",
       "      <td>3</td>\n",
       "      <td>405, 124, 11</td>\n",
       "      <td>1</td>\n",
       "    </tr>\n",
       "  </tbody>\n",
       "</table>\n",
       "<p>5 rows × 23 columns</p>\n",
       "</div>"
      ],
      "text/plain": [
       "      subject_id gender    age              ethnicity  hadm_id  icustay_id  \\\n",
       "562        27425      M  62.06                  WHITE   137253    251790.0   \n",
       "564        27530      M  64.41                  WHITE   129816    201501.0   \n",
       "1424       83149      F  84.15                  WHITE   176022    248326.0   \n",
       "1461       85407      F  72.83  UNKNOWN/NOT SPECIFIED   129707    214843.0   \n",
       "977        54523      M  84.08                  WHITE   106421    275893.0   \n",
       "\n",
       "      los_days                                         icd9_codes  \\\n",
       "562    14.0223  4271: Parox ventric tachycard\\n03849: Gram-neg...   \n",
       "564     6.1660  V5049: Prphylct orgn rmvl other\\nV420: Kidney ...   \n",
       "1424    0.5804  82021: Intertrochanteric fx-cl\\n2851: Ac posth...   \n",
       "1461    1.1170  0389: Septicemia NOS\\n41519: Pulm embol/infarc...   \n",
       "977    31.2165  99731: Ventltr assoc pneumonia\\n5845: Ac kidny...   \n",
       "\n",
       "                                                  drugs  dist_cat_count  \\\n",
       "562   Quetiapine Fumarate\\nOlanzapine (Disintegratin...               4   \n",
       "564                                 Quetiapine Fumarate               1   \n",
       "1424  Quetiapine Fumarate\\nHaloperidol\\nHaloperidol\\...               3   \n",
       "1461                                            No drug               0   \n",
       "977   Quetiapine Fumarate\\nHaloperidol\\nHaloperidol\\...               3   \n",
       "\n",
       "         ...     sepsis  dementia  alzheimers  depression  anxiety  \\\n",
       "562      ...          1         0           0           0        0   \n",
       "564      ...          0         0           0           0        0   \n",
       "1424     ...          0         0           0           0        0   \n",
       "1461     ...          0         0           0           0        0   \n",
       "977      ...          0         0           0           0        0   \n",
       "\n",
       "      death_hosp  death_one_year  mechvent  mechvent_duration_hours  \\\n",
       "562            0               0         2            11.75, 141.25   \n",
       "564            0               0         0                            \n",
       "1424           0               0         0                            \n",
       "1461           1               1         0                            \n",
       "977            0               0         3             405, 124, 11   \n",
       "\n",
       "      drug_group  \n",
       "562            1  \n",
       "564            3  \n",
       "1424           1  \n",
       "1461           2  \n",
       "977            1  \n",
       "\n",
       "[5 rows x 23 columns]"
      ]
     },
     "execution_count": 8,
     "metadata": {},
     "output_type": "execute_result"
    }
   ],
   "source": [
    "data.sample(5)"
   ]
  },
  {
   "cell_type": "code",
   "execution_count": 9,
   "metadata": {},
   "outputs": [
    {
     "data": {
      "text/plain": [
       "<seaborn.axisgrid.PairGrid at 0x11f3a2128>"
      ]
     },
     "execution_count": 9,
     "metadata": {},
     "output_type": "execute_result"
    },
    {
     "data": {
      "image/png": "[encoded data removed]",
      "text/plain": [
       "<Figure size 1980x540 with 33 Axes>"
      ]
     },
     "metadata": {},
     "output_type": "display_data"
    }
   ],
   "source": [
    "sns.pairplot(data, x_vars=['age', 'los_days', 'dist_cat_count', 'cat_surgery', 'cat_pneu', 'sepsis', 'dementia', 'alzheimers', 'depression', 'anxiety', 'mechvent'], y_vars=['drug_group', 'death_hosp', 'death_one_year'], kind='reg')\n"
   ]
  },
  {
   "cell_type": "markdown",
   "metadata": {},
   "source": [
    "---\n",
    "\n",
    "# Figure 1: Counts of different type of delirium patients"
   ]
  },
  {
   "cell_type": "code",
   "execution_count": 10,
   "metadata": {},
   "outputs": [],
   "source": [
    "sql = \" \\\n",
    "SELECT COUNT(d_icd.subject_id) AS count_diagnoses, d_icd.icd9_code, \\\n",
    "    d_icd_diag.short_title, d_icd_diag.long_title \\\n",
    "FROM mimiciii.diagnoses_icd d_icd, mimiciii.d_icd_diagnoses d_icd_diag \\\n",
    "WHERE d_icd.icd9_code = d_icd_diag.icd9_code \\\n",
    "    AND d_icd.icd9_code IN \\\n",
    "    (SELECT icd9_code FROM mimiciii.d_icd_diagnoses \\\n",
    "    WHERE LOWER(long_title) LIKE '%delirium%' OR LOWER(short_title) LIKE '%delirium%') \\\n",
    "GROUP BY d_icd.icd9_code, d_icd_diag.short_title, d_icd_diag.long_title \\\n",
    "ORDER BY d_icd.icd9_code;\"\n",
    "\n",
    "data_delirium = read_from_db(sql)\n",
    "\n",
    "data_delirium['percentage'] = (data_delirium.count_diagnoses * 100) / data_delirium.count_diagnoses.sum()"
   ]
  },
  {
   "cell_type": "code",
   "execution_count": 11,
   "metadata": {},
   "outputs": [
    {
     "data": {
      "image/png": "[encoded data removed]",
      "text/plain": [
       "<Figure size 288x288 with 1 Axes>"
      ]
     },
     "metadata": {},
     "output_type": "display_data"
    }
   ],
   "source": [
    "fig, ax = plt.subplots(figsize=(4, 4), subplot_kw=dict(aspect=\"equal\"))\n",
    "\n",
    "def func(pct, allvals):\n",
    "    absolute = int(pct/100.*np.sum(allvals))\n",
    "    return \"{:.1f}%\\n({:d})\".format(pct, absolute)\n",
    "\n",
    "\n",
    "wedges, texts, autotexts = ax.pie(data_delirium.count_diagnoses, autopct=lambda pct: func(pct, data_delirium.count_diagnoses), textprops=dict(color=\"w\"))\n",
    "\n",
    "ax.legend(wedges, data_delirium.short_title, title=\"Ingredients\", loc=\"center left\", bbox_to_anchor=(1, 0, 0.5, 1))\n",
    "\n",
    "plt.setp(autotexts, size=8, weight=\"bold\")\n",
    "\n",
    "ax.set_title(\"Patients diagnosed with different types of Delirium\")\n",
    "\n",
    "plt.show()"
   ]
  },
  {
   "cell_type": "markdown",
   "metadata": {},
   "source": [
    "---\n",
    "\n",
    "# Figure 2: Delirium patienst with different drug group"
   ]
  },
  {
   "cell_type": "code",
   "execution_count": 12,
   "metadata": {},
   "outputs": [
    {
     "data": {
      "text/html": [
       "<div>\n",
       "<style scoped>\n",
       "    .dataframe tbody tr th:only-of-type {\n",
       "        vertical-align: middle;\n",
       "    }\n",
       "\n",
       "    .dataframe tbody tr th {\n",
       "        vertical-align: top;\n",
       "    }\n",
       "\n",
       "    .dataframe thead th {\n",
       "        text-align: right;\n",
       "    }\n",
       "</style>\n",
       "<table border=\"1\" class=\"dataframe\">\n",
       "  <thead>\n",
       "    <tr style=\"text-align: right;\">\n",
       "      <th></th>\n",
       "      <th>title</th>\n",
       "      <th>count</th>\n",
       "      <th>percentage</th>\n",
       "    </tr>\n",
       "  </thead>\n",
       "  <tbody>\n",
       "    <tr>\n",
       "      <th>0</th>\n",
       "      <td>Count of patients given Haloperidol</td>\n",
       "      <td>889</td>\n",
       "      <td>53.201676</td>\n",
       "    </tr>\n",
       "    <tr>\n",
       "      <th>1</th>\n",
       "      <td>Count of patients given No drugs</td>\n",
       "      <td>462</td>\n",
       "      <td>27.648115</td>\n",
       "    </tr>\n",
       "    <tr>\n",
       "      <th>2</th>\n",
       "      <td>Count of patients given Other drugs</td>\n",
       "      <td>320</td>\n",
       "      <td>19.150209</td>\n",
       "    </tr>\n",
       "  </tbody>\n",
       "</table>\n",
       "</div>"
      ],
      "text/plain": [
       "                                 title  count  percentage\n",
       "0  Count of patients given Haloperidol    889   53.201676\n",
       "1     Count of patients given No drugs    462   27.648115\n",
       "2  Count of patients given Other drugs    320   19.150209"
      ]
     },
     "execution_count": 12,
     "metadata": {},
     "output_type": "execute_result"
    }
   ],
   "source": [
    "halo_group = data[data['drugs'].str.contains(\"Haloperidol\")]\n",
    "no_drug_group = data[data['drugs'].str.contains(\"No drug\")]\n",
    "other_drug_group = data[~data['drugs'].str.contains(\"Haloperidol\") & ~data['drugs'].str.contains(\"No drug\")]\n",
    "\n",
    "counts = {'title': ['Count of patients given Haloperidol', 'Count of patients given No drugs', 'Count of patients given Other drugs'], \n",
    "          'count': [halo_group.shape[0], no_drug_group.shape[0], other_drug_group.shape[0]]}\n",
    "index = [0, 1, 2]\n",
    "count_data = pd.DataFrame(counts, index=index)\n",
    "\n",
    "count_data['percentage'] = (count_data['count'] * 100) / count_data['count'].sum()\n",
    "\n",
    "count_data"
   ]
  },
  {
   "cell_type": "code",
   "execution_count": 13,
   "metadata": {},
   "outputs": [
    {
     "data": {
      "text/plain": [
       "<matplotlib.axes._subplots.AxesSubplot at 0x11f4b4ef0>"
      ]
     },
     "execution_count": 13,
     "metadata": {},
     "output_type": "execute_result"
    },
    {
     "data": {
      "image/png": "[encoded data removed]",
      "text/plain": [
       "<Figure size 576x576 with 1 Axes>"
      ]
     },
     "metadata": {},
     "output_type": "display_data"
    }
   ],
   "source": [
    "count_data = count_data.set_index(['title'])\n",
    "count_data.plot.pie(y='count', figsize=(8, 8))"
   ]
  },
  {
   "cell_type": "markdown",
   "metadata": {},
   "source": [
    "---\n",
    "\n",
    "# Figure 3: Distinct drug type count in different drug groups"
   ]
  },
  {
   "cell_type": "code",
   "execution_count": 14,
   "metadata": {},
   "outputs": [],
   "source": [
    "count_0 = data[data['dist_cat_count'] == 0].shape[0]\n",
    "count_1 = data[data['dist_cat_count'] == 1].shape[0]\n",
    "count_2 = data[data['dist_cat_count'] == 2].shape[0]\n",
    "count_3 = data[data['dist_cat_count'] == 3].shape[0]\n",
    "count_4 = data[data['dist_cat_count'] == 4].shape[0]\n",
    "count_5 = data[data['dist_cat_count'] == 5].shape[0]\n",
    "\n",
    "count_0_halo = data[(data['dist_cat_count'] == 0) & (data['drugs'].str.contains(\"Haloperidol\"))].shape[0]\n",
    "count_1_halo = data[(data['dist_cat_count'] == 1) & (data['drugs'].str.contains(\"Haloperidol\"))].shape[0]\n",
    "count_2_halo = data[(data['dist_cat_count'] == 2) & (data['drugs'].str.contains(\"Haloperidol\"))].shape[0]\n",
    "count_3_halo = data[(data['dist_cat_count'] == 3) & (data['drugs'].str.contains(\"Haloperidol\"))].shape[0]\n",
    "count_4_halo = data[(data['dist_cat_count'] == 4) & (data['drugs'].str.contains(\"Haloperidol\"))].shape[0]\n",
    "count_5_halo = data[(data['dist_cat_count'] == 5) & (data['drugs'].str.contains(\"Haloperidol\"))].shape[0]"
   ]
  },
  {
   "cell_type": "code",
   "execution_count": 15,
   "metadata": {},
   "outputs": [
    {
     "data": {
      "image/png": "[encoded data removed]",
      "text/plain": [
       "<Figure size 1440x720 with 1 Axes>"
      ]
     },
     "metadata": {},
     "output_type": "display_data"
    }
   ],
   "source": [
    "# set width of bar\n",
    "barWidth = 0.25\n",
    " \n",
    "# set height of bar\n",
    "bars1 = [count_0, count_1, count_2, count_3, count_4, count_5]\n",
    "bars2 = [count_0_halo, count_1_halo, count_2_halo, count_3_halo, count_4_halo, count_5_halo]\n",
    "\n",
    "plt.figure(figsize=(20,10))\n",
    " \n",
    "# Set position of bar on X axis\n",
    "r1 = np.arange(len(bars1))\n",
    "r2 = [x + barWidth for x in r1]\n",
    " \n",
    "# Make the plot\n",
    "plt.bar(r1, bars1, color='#1B998B', width=barWidth, edgecolor='white', label='all drugs')\n",
    "plt.bar(r2, bars2, color='#E84855', width=barWidth, edgecolor='white', label='with haloperdol')\n",
    " \n",
    "# Add xticks on the middle of the group bars\n",
    "plt.xlabel('counts of distinct drug type given', fontweight='bold')\n",
    "plt.xticks([r + barWidth for r in range(len(bars1))], ['count: 0', 'count: 1', 'count: 2', 'count: 3', 'count: 4', 'count: 5'])\n",
    " \n",
    "# Create legend & Show graphic\n",
    "plt.legend()\n",
    "plt.show()"
   ]
  },
  {
   "cell_type": "markdown",
   "metadata": {},
   "source": [
    "---\n",
    "\n",
    "# Figure 4: Age distribution"
   ]
  },
  {
   "cell_type": "code",
   "execution_count": 16,
   "metadata": {},
   "outputs": [
    {
     "data": {
      "image/png": "[encoded data removed]",
      "text/plain": [
       "<Figure size 432x288 with 1 Axes>"
      ]
     },
     "metadata": {},
     "output_type": "display_data"
    }
   ],
   "source": [
    "bins = [x*5+15 for x in range(0, 16)] # results in 15, 20, ... 85, 90\n",
    "plt.hist(data['age'], bins=bins, edgecolor=\"k\")\n",
    "plt.xticks(bins)\n",
    "plt.ylim(0, 250)\n",
    "plt.show()"
   ]
  },
  {
   "cell_type": "markdown",
   "metadata": {},
   "source": [
    "---\n",
    "\n",
    "# Figure 5: Sex distribution"
   ]
  },
  {
   "cell_type": "code",
   "execution_count": 17,
   "metadata": {},
   "outputs": [],
   "source": [
    "male_group = data[data['gender'] == 'M']\n",
    "female_group = data[data['gender'] == 'F']\n",
    "\n",
    "male_halo_group = halo_group[halo_group['gender'] == 'M']\n",
    "female_halo_group = halo_group[halo_group['gender'] == 'F']\n",
    "\n",
    "male_no_drug_group = no_drug_group[no_drug_group['gender'] == 'M']\n",
    "female_no_drug_group = no_drug_group[no_drug_group['gender'] == 'F']\n",
    "\n",
    "male_other_drug_group = other_drug_group[other_drug_group['gender'] == 'M']\n",
    "female_other_drug_group = other_drug_group[other_drug_group['gender'] == 'F']\n",
    "\n",
    "gender_data = pd.DataFrame({'male': [male_group.shape[0], male_halo_group.shape[0], male_no_drug_group.shape[0], male_other_drug_group.shape[0]],\n",
    " 'female': [female_group.shape[0], female_halo_group.shape[0], female_no_drug_group.shape[0], female_other_drug_group.shape[0]],\n",
    " 'group': ['all_drugs', 'haloperidol', 'no_drugs', 'other_drugs']})\n",
    "\n",
    "gender_data = gender_data.set_index(['group'])"
   ]
  },
  {
   "cell_type": "code",
   "execution_count": 18,
   "metadata": {},
   "outputs": [
    {
     "data": {
      "image/png": "[encoded data removed]",
      "text/plain": [
       "<Figure size 432x288 with 1 Axes>"
      ]
     },
     "metadata": {},
     "output_type": "display_data"
    }
   ],
   "source": [
    "# set width of bar\n",
    "barWidth = 0.25\n",
    " \n",
    "# set height of bar\n",
    "bars1 = [male_group.shape[0], male_halo_group.shape[0], male_no_drug_group.shape[0], male_other_drug_group.shape[0]]\n",
    "bars2 = [female_group.shape[0], female_halo_group.shape[0], female_no_drug_group.shape[0], female_other_drug_group.shape[0]]\n",
    " \n",
    "# Set position of bar on X axis\n",
    "r1 = np.arange(len(bars1))\n",
    "r2 = [x + barWidth for x in r1]\n",
    " \n",
    "# Make the plot\n",
    "plt.bar(r1, bars1, color='#1B998B', width=barWidth, edgecolor='white', label='male')\n",
    "plt.bar(r2, bars2, color='#E84855', width=barWidth, edgecolor='white', label='female')\n",
    " \n",
    "# Add xticks on the middle of the group bars\n",
    "plt.xlabel('group', fontweight='bold')\n",
    "plt.xticks([r + barWidth for r in range(len(bars1))], ['all_drugs', 'haloperidol', 'no_drugs', 'other_drugs'])\n",
    " \n",
    "# Create legend & Show graphic\n",
    "plt.legend()\n",
    "plt.show()"
   ]
  },
  {
   "cell_type": "markdown",
   "metadata": {},
   "source": [
    "---\n",
    "\n",
    "# Figure 6: Length-of-stay distribution"
   ]
  },
  {
   "cell_type": "code",
   "execution_count": 19,
   "metadata": {},
   "outputs": [
    {
     "data": {
      "image/png": "[encoded data removed]",
      "text/plain": [
       "<Figure size 432x288 with 1 Axes>"
      ]
     },
     "metadata": {},
     "output_type": "display_data"
    }
   ],
   "source": [
    "bins = [x*2 for x in range(0, 21)] # results in 0, 2, ... 38, 40\n",
    "plt.hist(data[~data['drugs'].str.contains(\"Haloperidol\") & ~data['drugs'].str.contains(\"No drug\")]['los_days'], bins=bins, edgecolor=\"k\")\n",
    "plt.xticks(bins)\n",
    "plt.ylim(0, 500)\n",
    "plt.show()"
   ]
  },
  {
   "cell_type": "markdown",
   "metadata": {},
   "source": [
    "# Linear Regression"
   ]
  },
  {
   "cell_type": "code",
   "execution_count": 20,
   "metadata": {},
   "outputs": [],
   "source": [
    "feature_cols = ['age', 'los_days', 'dist_cat_count', 'cat_surgery', 'cat_pneu', 'sepsis', 'dementia', 'alzheimers', 'depression', 'anxiety', 'mechvent']\n",
    "label_cols = ['drug_group', 'death_hosp', 'death_one_year']\n",
    "\n",
    "X = data[feature_cols]\n",
    "Y = data[label_cols]"
   ]
  },
  {
   "cell_type": "code",
   "execution_count": 21,
   "metadata": {},
   "outputs": [],
   "source": [
    "X = X.fillna(0)"
   ]
  },
  {
   "cell_type": "code",
   "execution_count": 22,
   "metadata": {},
   "outputs": [
    {
     "data": {
      "text/html": [
       "<div>\n",
       "<style scoped>\n",
       "    .dataframe tbody tr th:only-of-type {\n",
       "        vertical-align: middle;\n",
       "    }\n",
       "\n",
       "    .dataframe tbody tr th {\n",
       "        vertical-align: top;\n",
       "    }\n",
       "\n",
       "    .dataframe thead th {\n",
       "        text-align: right;\n",
       "    }\n",
       "</style>\n",
       "<table border=\"1\" class=\"dataframe\">\n",
       "  <thead>\n",
       "    <tr style=\"text-align: right;\">\n",
       "      <th></th>\n",
       "      <th>age</th>\n",
       "      <th>los_days</th>\n",
       "      <th>dist_cat_count</th>\n",
       "      <th>cat_surgery</th>\n",
       "      <th>cat_pneu</th>\n",
       "      <th>sepsis</th>\n",
       "      <th>dementia</th>\n",
       "      <th>alzheimers</th>\n",
       "      <th>depression</th>\n",
       "      <th>anxiety</th>\n",
       "      <th>mechvent</th>\n",
       "    </tr>\n",
       "  </thead>\n",
       "  <tbody>\n",
       "    <tr>\n",
       "      <th>510</th>\n",
       "      <td>80.25</td>\n",
       "      <td>7.7780</td>\n",
       "      <td>0</td>\n",
       "      <td>1.0</td>\n",
       "      <td>1</td>\n",
       "      <td>1</td>\n",
       "      <td>0</td>\n",
       "      <td>0</td>\n",
       "      <td>0</td>\n",
       "      <td>0</td>\n",
       "      <td>0</td>\n",
       "    </tr>\n",
       "    <tr>\n",
       "      <th>1260</th>\n",
       "      <td>69.25</td>\n",
       "      <td>1.1795</td>\n",
       "      <td>1</td>\n",
       "      <td>0.0</td>\n",
       "      <td>0</td>\n",
       "      <td>0</td>\n",
       "      <td>0</td>\n",
       "      <td>0</td>\n",
       "      <td>0</td>\n",
       "      <td>0</td>\n",
       "      <td>0</td>\n",
       "    </tr>\n",
       "    <tr>\n",
       "      <th>500</th>\n",
       "      <td>300.00</td>\n",
       "      <td>3.2477</td>\n",
       "      <td>2</td>\n",
       "      <td>0.0</td>\n",
       "      <td>1</td>\n",
       "      <td>0</td>\n",
       "      <td>0</td>\n",
       "      <td>0</td>\n",
       "      <td>0</td>\n",
       "      <td>0</td>\n",
       "      <td>1</td>\n",
       "    </tr>\n",
       "    <tr>\n",
       "      <th>516</th>\n",
       "      <td>66.83</td>\n",
       "      <td>7.5921</td>\n",
       "      <td>2</td>\n",
       "      <td>1.0</td>\n",
       "      <td>1</td>\n",
       "      <td>0</td>\n",
       "      <td>0</td>\n",
       "      <td>0</td>\n",
       "      <td>0</td>\n",
       "      <td>0</td>\n",
       "      <td>1</td>\n",
       "    </tr>\n",
       "    <tr>\n",
       "      <th>349</th>\n",
       "      <td>66.04</td>\n",
       "      <td>1.9195</td>\n",
       "      <td>2</td>\n",
       "      <td>1.0</td>\n",
       "      <td>0</td>\n",
       "      <td>0</td>\n",
       "      <td>0</td>\n",
       "      <td>0</td>\n",
       "      <td>0</td>\n",
       "      <td>0</td>\n",
       "      <td>0</td>\n",
       "    </tr>\n",
       "    <tr>\n",
       "      <th>1234</th>\n",
       "      <td>73.96</td>\n",
       "      <td>2.0519</td>\n",
       "      <td>2</td>\n",
       "      <td>1.0</td>\n",
       "      <td>0</td>\n",
       "      <td>0</td>\n",
       "      <td>0</td>\n",
       "      <td>0</td>\n",
       "      <td>0</td>\n",
       "      <td>0</td>\n",
       "      <td>1</td>\n",
       "    </tr>\n",
       "    <tr>\n",
       "      <th>1615</th>\n",
       "      <td>69.30</td>\n",
       "      <td>1.7039</td>\n",
       "      <td>1</td>\n",
       "      <td>1.0</td>\n",
       "      <td>0</td>\n",
       "      <td>0</td>\n",
       "      <td>0</td>\n",
       "      <td>0</td>\n",
       "      <td>0</td>\n",
       "      <td>0</td>\n",
       "      <td>0</td>\n",
       "    </tr>\n",
       "    <tr>\n",
       "      <th>1132</th>\n",
       "      <td>85.20</td>\n",
       "      <td>4.3460</td>\n",
       "      <td>2</td>\n",
       "      <td>0.0</td>\n",
       "      <td>0</td>\n",
       "      <td>0</td>\n",
       "      <td>0</td>\n",
       "      <td>0</td>\n",
       "      <td>0</td>\n",
       "      <td>0</td>\n",
       "      <td>1</td>\n",
       "    </tr>\n",
       "    <tr>\n",
       "      <th>1516</th>\n",
       "      <td>72.62</td>\n",
       "      <td>1.3950</td>\n",
       "      <td>3</td>\n",
       "      <td>1.0</td>\n",
       "      <td>0</td>\n",
       "      <td>1</td>\n",
       "      <td>0</td>\n",
       "      <td>0</td>\n",
       "      <td>0</td>\n",
       "      <td>0</td>\n",
       "      <td>0</td>\n",
       "    </tr>\n",
       "    <tr>\n",
       "      <th>571</th>\n",
       "      <td>42.40</td>\n",
       "      <td>3.0550</td>\n",
       "      <td>0</td>\n",
       "      <td>0.0</td>\n",
       "      <td>0</td>\n",
       "      <td>0</td>\n",
       "      <td>0</td>\n",
       "      <td>0</td>\n",
       "      <td>0</td>\n",
       "      <td>0</td>\n",
       "      <td>0</td>\n",
       "    </tr>\n",
       "  </tbody>\n",
       "</table>\n",
       "</div>"
      ],
      "text/plain": [
       "         age  los_days  dist_cat_count  cat_surgery  cat_pneu  sepsis  \\\n",
       "510    80.25    7.7780               0          1.0         1       1   \n",
       "1260   69.25    1.1795               1          0.0         0       0   \n",
       "500   300.00    3.2477               2          0.0         1       0   \n",
       "516    66.83    7.5921               2          1.0         1       0   \n",
       "349    66.04    1.9195               2          1.0         0       0   \n",
       "1234   73.96    2.0519               2          1.0         0       0   \n",
       "1615   69.30    1.7039               1          1.0         0       0   \n",
       "1132   85.20    4.3460               2          0.0         0       0   \n",
       "1516   72.62    1.3950               3          1.0         0       1   \n",
       "571    42.40    3.0550               0          0.0         0       0   \n",
       "\n",
       "      dementia  alzheimers  depression  anxiety  mechvent  \n",
       "510          0           0           0        0         0  \n",
       "1260         0           0           0        0         0  \n",
       "500          0           0           0        0         1  \n",
       "516          0           0           0        0         1  \n",
       "349          0           0           0        0         0  \n",
       "1234         0           0           0        0         1  \n",
       "1615         0           0           0        0         0  \n",
       "1132         0           0           0        0         1  \n",
       "1516         0           0           0        0         0  \n",
       "571          0           0           0        0         0  "
      ]
     },
     "execution_count": 22,
     "metadata": {},
     "output_type": "execute_result"
    }
   ],
   "source": [
    "X.sample(10)"
   ]
  },
  {
   "cell_type": "code",
   "execution_count": 23,
   "metadata": {},
   "outputs": [
    {
     "data": {
      "text/html": [
       "<div>\n",
       "<style scoped>\n",
       "    .dataframe tbody tr th:only-of-type {\n",
       "        vertical-align: middle;\n",
       "    }\n",
       "\n",
       "    .dataframe tbody tr th {\n",
       "        vertical-align: top;\n",
       "    }\n",
       "\n",
       "    .dataframe thead th {\n",
       "        text-align: right;\n",
       "    }\n",
       "</style>\n",
       "<table border=\"1\" class=\"dataframe\">\n",
       "  <thead>\n",
       "    <tr style=\"text-align: right;\">\n",
       "      <th></th>\n",
       "      <th>drug_group</th>\n",
       "      <th>death_hosp</th>\n",
       "      <th>death_one_year</th>\n",
       "    </tr>\n",
       "  </thead>\n",
       "  <tbody>\n",
       "    <tr>\n",
       "      <th>1118</th>\n",
       "      <td>2</td>\n",
       "      <td>0</td>\n",
       "      <td>1</td>\n",
       "    </tr>\n",
       "    <tr>\n",
       "      <th>1264</th>\n",
       "      <td>1</td>\n",
       "      <td>0</td>\n",
       "      <td>0</td>\n",
       "    </tr>\n",
       "    <tr>\n",
       "      <th>1229</th>\n",
       "      <td>1</td>\n",
       "      <td>0</td>\n",
       "      <td>0</td>\n",
       "    </tr>\n",
       "    <tr>\n",
       "      <th>670</th>\n",
       "      <td>1</td>\n",
       "      <td>0</td>\n",
       "      <td>1</td>\n",
       "    </tr>\n",
       "    <tr>\n",
       "      <th>1595</th>\n",
       "      <td>2</td>\n",
       "      <td>0</td>\n",
       "      <td>0</td>\n",
       "    </tr>\n",
       "    <tr>\n",
       "      <th>1267</th>\n",
       "      <td>1</td>\n",
       "      <td>0</td>\n",
       "      <td>0</td>\n",
       "    </tr>\n",
       "    <tr>\n",
       "      <th>633</th>\n",
       "      <td>3</td>\n",
       "      <td>0</td>\n",
       "      <td>0</td>\n",
       "    </tr>\n",
       "    <tr>\n",
       "      <th>1198</th>\n",
       "      <td>1</td>\n",
       "      <td>0</td>\n",
       "      <td>0</td>\n",
       "    </tr>\n",
       "    <tr>\n",
       "      <th>151</th>\n",
       "      <td>1</td>\n",
       "      <td>1</td>\n",
       "      <td>1</td>\n",
       "    </tr>\n",
       "    <tr>\n",
       "      <th>1277</th>\n",
       "      <td>2</td>\n",
       "      <td>0</td>\n",
       "      <td>0</td>\n",
       "    </tr>\n",
       "  </tbody>\n",
       "</table>\n",
       "</div>"
      ],
      "text/plain": [
       "      drug_group  death_hosp  death_one_year\n",
       "1118           2           0               1\n",
       "1264           1           0               0\n",
       "1229           1           0               0\n",
       "670            1           0               1\n",
       "1595           2           0               0\n",
       "1267           1           0               0\n",
       "633            3           0               0\n",
       "1198           1           0               0\n",
       "151            1           1               1\n",
       "1277           2           0               0"
      ]
     },
     "execution_count": 23,
     "metadata": {},
     "output_type": "execute_result"
    }
   ],
   "source": [
    "Y.sample(10)"
   ]
  },
  {
   "cell_type": "code",
   "execution_count": 24,
   "metadata": {},
   "outputs": [
    {
     "name": "stderr",
     "output_type": "stream",
     "text": [
      "/Users/riddhimanadib/.virtualenvs/purdue/lib/python3.6/site-packages/sklearn/cross_validation.py:41: DeprecationWarning: This module was deprecated in version 0.18 in favor of the model_selection module into which all the refactored classes and functions are moved. Also note that the interface of the new CV iterators are different from that of this module. This module will be removed in 0.20.\n",
      "  \"This module will be removed in 0.20.\", DeprecationWarning)\n"
     ]
    }
   ],
   "source": [
    "from sklearn.cross_validation import train_test_split\n",
    "\n",
    "X_train, X_test, Y_train, Y_test = train_test_split(X, Y)"
   ]
  },
  {
   "cell_type": "code",
   "execution_count": 25,
   "metadata": {},
   "outputs": [],
   "source": [
    "from sklearn.linear_model import LinearRegression\n",
    "\n",
    "linreg = LinearRegression()\n",
    "result = linreg.fit(X_train, Y_train)"
   ]
  },
  {
   "cell_type": "code",
   "execution_count": 26,
   "metadata": {},
   "outputs": [
    {
     "data": {
      "text/plain": [
       "0.15970657769288843"
      ]
     },
     "execution_count": 26,
     "metadata": {},
     "output_type": "execute_result"
    }
   ],
   "source": [
    "result.score(X_train, Y_train)"
   ]
  },
  {
   "cell_type": "code",
   "execution_count": 27,
   "metadata": {},
   "outputs": [
    {
     "name": "stdout",
     "output_type": "stream",
     "text": [
      "[2.03235782 0.03538243 0.24860838]\n"
     ]
    }
   ],
   "source": [
    "print(linreg.intercept_)"
   ]
  },
  {
   "cell_type": "code",
   "execution_count": 28,
   "metadata": {},
   "outputs": [
    {
     "name": "stdout",
     "output_type": "stream",
     "text": [
      "[[ 2.29134806e-05 -2.56286748e-03 -3.31659866e-01  3.01110278e-02\n",
      "   8.86997603e-02  3.59055243e-02  2.15167372e-01  1.14854785e-01\n",
      "   5.13349795e-02  5.74655634e-02 -8.42059164e-03]\n",
      " [ 1.34253871e-04  1.47124694e-03  1.92850868e-03  4.06610971e-02\n",
      "   2.05855366e-02  1.75260557e-01  1.31271658e-01 -1.07283529e-01\n",
      "  -2.60456288e-02 -1.30825385e-02 -1.46940569e-02]\n",
      " [ 6.45030012e-04  3.34015937e-04  1.29296706e-03  1.00740205e-02\n",
      "   1.05965801e-01  1.64959059e-01 -7.11483953e-02  8.45313682e-02\n",
      "  -2.85123150e-02 -8.75353868e-02 -2.75346837e-02]]\n"
     ]
    }
   ],
   "source": [
    "print(linreg.coef_)"
   ]
  },
  {
   "cell_type": "code",
   "execution_count": 29,
   "metadata": {},
   "outputs": [],
   "source": [
    "Y_pred = linreg.predict(X_test)"
   ]
  },
  {
   "cell_type": "code",
   "execution_count": 30,
   "metadata": {},
   "outputs": [],
   "source": [
    "from sklearn import metrics"
   ]
  },
  {
   "cell_type": "code",
   "execution_count": 31,
   "metadata": {},
   "outputs": [
    {
     "name": "stdout",
     "output_type": "stream",
     "text": [
      "0.380554582921496\n"
     ]
    }
   ],
   "source": [
    "print(metrics.mean_absolute_error(Y_test, Y_pred))"
   ]
  },
  {
   "cell_type": "code",
   "execution_count": 32,
   "metadata": {},
   "outputs": [
    {
     "name": "stdout",
     "output_type": "stream",
     "text": [
      "0.273263661298406\n"
     ]
    }
   ],
   "source": [
    "print(metrics.mean_squared_error(Y_test, Y_pred))"
   ]
  },
  {
   "cell_type": "code",
   "execution_count": 33,
   "metadata": {},
   "outputs": [
    {
     "name": "stdout",
     "output_type": "stream",
     "text": [
      "0.5227462685647847\n"
     ]
    }
   ],
   "source": [
    "print(np.sqrt(metrics.mean_squared_error(Y_test, Y_pred)))"
   ]
  },
  {
   "cell_type": "markdown",
   "metadata": {},
   "source": [
    "# Logistic Regression"
   ]
  },
  {
   "cell_type": "code",
   "execution_count": 34,
   "metadata": {},
   "outputs": [],
   "source": [
    "from sklearn.linear_model import LogisticRegression\n",
    "\n",
    "logreg1 = LogisticRegression()\n",
    "logreg2 = LogisticRegression()\n",
    "logreg3 = LogisticRegression()\n",
    "\n",
    "Y_train1 = Y_train['drug_group']\n",
    "Y_train2 = Y_train['death_hosp']\n",
    "Y_train3 = Y_train['death_one_year']"
   ]
  },
  {
   "cell_type": "code",
   "execution_count": 35,
   "metadata": {},
   "outputs": [],
   "source": [
    "res1 = logreg1.fit(X_train, Y_train1)\n",
    "res2 = logreg2.fit(X_train, Y_train2)\n",
    "res3 = logreg3.fit(X_train, Y_train3)"
   ]
  },
  {
   "cell_type": "code",
   "execution_count": 36,
   "metadata": {},
   "outputs": [
    {
     "name": "stdout",
     "output_type": "stream",
     "text": [
      "0.8100558659217877\n",
      "0.8946528332003192\n",
      "0.6552274541101357\n"
     ]
    }
   ],
   "source": [
    "print(res1.score(X_train, Y_train1))\n",
    "print(res2.score(X_train, Y_train2))\n",
    "print(res3.score(X_train, Y_train3))"
   ]
  },
  {
   "cell_type": "code",
   "execution_count": 37,
   "metadata": {},
   "outputs": [
    {
     "name": "stdout",
     "output_type": "stream",
     "text": [
      "[-2.43663896  2.97795617 -1.50850124]\n",
      "[-2.81504396]\n",
      "[-1.04589093]\n"
     ]
    }
   ],
   "source": [
    "print(logreg1.intercept_)\n",
    "print(logreg2.intercept_)\n",
    "print(logreg3.intercept_)"
   ]
  },
  {
   "cell_type": "code",
   "execution_count": 38,
   "metadata": {},
   "outputs": [
    {
     "name": "stdout",
     "output_type": "stream",
     "text": [
      "[[-4.68231108e-04  1.10691619e-02  2.48018058e+00 -1.24711120e-01\n",
      "  -4.81825609e-01 -3.34469106e-01 -9.28627132e-01 -6.21508781e-01\n",
      "  -3.54376241e-02 -1.22430780e-03  4.89299537e-02]\n",
      " [ 3.29659116e-03  2.28086265e-03 -7.51870062e+00  1.69170218e-01\n",
      "   1.67114296e-01  2.62651799e-01  5.81007231e-02  4.92093947e-02\n",
      "   2.84999688e-02 -2.21869245e-02  4.21348792e-03]\n",
      " [ 2.88507373e-04 -1.42526047e-02 -6.32870595e-02  1.48475551e-01\n",
      "   2.19498036e-01  3.68184004e-02  4.34862042e-01  2.43079828e-01\n",
      "   2.40648704e-01  3.35974733e-01 -2.22248618e-02]]\n"
     ]
    }
   ],
   "source": [
    "print(logreg1.coef_)"
   ]
  },
  {
   "cell_type": "code",
   "execution_count": 39,
   "metadata": {},
   "outputs": [],
   "source": [
    "Y_pred1 = logreg1.predict(X_test)\n",
    "Y_pred2 = logreg2.predict(X_test)\n",
    "Y_pred3 = logreg3.predict(X_test)"
   ]
  },
  {
   "cell_type": "code",
   "execution_count": 40,
   "metadata": {},
   "outputs": [
    {
     "name": "stdout",
     "output_type": "stream",
     "text": [
      "0.3684210526315789\n",
      "0.11722488038277512\n",
      "0.35406698564593303\n"
     ]
    }
   ],
   "source": [
    "print(metrics.mean_absolute_error(Y_test['drug_group'], Y_pred1))\n",
    "print(metrics.mean_absolute_error(Y_test['death_hosp'], Y_pred2))\n",
    "print(metrics.mean_absolute_error(Y_test['death_one_year'], Y_pred3))"
   ]
  },
  {
   "cell_type": "code",
   "execution_count": 41,
   "metadata": {},
   "outputs": [
    {
     "name": "stdout",
     "output_type": "stream",
     "text": [
      "0.7368421052631579\n",
      "0.11722488038277512\n",
      "0.35406698564593303\n"
     ]
    }
   ],
   "source": [
    "print(metrics.mean_squared_error(Y_test['drug_group'], Y_pred1))\n",
    "print(metrics.mean_squared_error(Y_test['death_hosp'], Y_pred2))\n",
    "print(metrics.mean_squared_error(Y_test['death_one_year'], Y_pred3))"
   ]
  },
  {
   "cell_type": "code",
   "execution_count": 42,
   "metadata": {},
   "outputs": [
    {
     "name": "stdout",
     "output_type": "stream",
     "text": [
      "0.8583950752789521\n",
      "0.34238119163116293\n",
      "0.5950352810093978\n"
     ]
    }
   ],
   "source": [
    "print(np.sqrt(metrics.mean_squared_error(Y_test['drug_group'], Y_pred1)))\n",
    "print(np.sqrt(metrics.mean_squared_error(Y_test['death_hosp'], Y_pred2)))\n",
    "print(np.sqrt(metrics.mean_squared_error(Y_test['death_one_year'], Y_pred3)))"
   ]
  },
  {
   "cell_type": "code",
   "execution_count": null,
   "metadata": {},
   "outputs": [],
   "source": []
  }
 ],
 "metadata": {
  "kernelspec": {
   "display_name": "Python 3",
   "language": "python",
   "name": "python3"
  },
  "language_info": {
   "codemirror_mode": {
    "name": "ipython",
    "version": 3
   },
   "file_extension": ".py",
   "mimetype": "text/x-python",
   "name": "python",
   "nbconvert_exporter": "python",
   "pygments_lexer": "ipython3",
   "version": "3.6.5"
  }
 },
 "nbformat": 4,
 "nbformat_minor": 2
}
